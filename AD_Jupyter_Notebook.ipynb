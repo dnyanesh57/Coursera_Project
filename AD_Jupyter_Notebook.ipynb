{
 "cells": [
  {
   "cell_type": "markdown",
   "metadata": {},
   "source": [
    "<center>\n",
    "    <img src=\"https://cf-courses-data.s3.us.cloud-object-storage.appdomain.cloud/IBMDeveloperSkillsNetwork-DS0105EN-SkillsNetwork/labs/Module2/images/SN_web_lightmode.png\" width=\"300\" alt=\"cognitiveclass.ai logo\">\n",
    "</center>\n"
   ]
  },
  {
   "cell_type": "markdown",
   "metadata": {},
   "source": [
    "#### Add your code below following the instructions given in the course\n"
   ]
  },
  {
   "cell_type": "markdown",
   "metadata": {},
   "source": [
    "**Dnyanesh Nikam**"
   ]
  },
  {
   "cell_type": "markdown",
   "metadata": {},
   "source": [
    "*I am interested in data science because, I want to combine the power of AI/ML with the business requirements, to create powerful solutions and provide deep insights into issues an organization needs to solve or discover underlying patterns to discover new potential insights*"
   ]
  },
  {
   "cell_type": "markdown",
   "metadata": {},
   "source": [
    "## Introduction to Data Science Languages\n",
    "\n",
    "Data science involves the use of various programming languages for data analysis, machine learning, and visualization. Below is an ordered list of commonly used data science languages:\n",
    "\n",
    "1. Python\n",
    "2. R\n",
    "3. SQL\n",
    "4. Julia\n",
    "5. Scala\n"
   ]
  },
  {
   "cell_type": "markdown",
   "metadata": {},
   "source": [
    "## Introduction to Data Science Libraries\n",
    "\n",
    "Data science libraries provide powerful tools for data analysis, machine learning, and visualization tasks. Below is an ordered list of commonly used data science libraries:\n",
    "\n",
    "1. Pandas\n",
    "2. NumPy\n",
    "3. Matplotlib\n",
    "4. Seaborn\n",
    "5. Scikit-learn\n"
   ]
  },
  {
   "cell_type": "markdown",
   "metadata": {},
   "source": [
    "## Data Science Tools\n",
    "\n",
    "| Tool               | Category                 |\n",
    "|--------------------|--------------------------|\n",
    "| Python             | Programming Language     |\n",
    "| R                  | Programming Language     |\n",
    "| SQL                | Query Language           |\n",
    "| Jupyter Notebook   | Integrated Development Environment (IDE) |\n",
    "| TensorFlow         | Machine Learning Framework |\n"
   ]
  },
  {
   "cell_type": "code",
   "execution_count": 3,
   "metadata": {},
   "outputs": [
    {
     "name": "stdout",
     "output_type": "stream",
     "text": [
      "               Tool                    Category\n",
      "0            Python        Programming Language\n",
      "1                 R        Programming Language\n",
      "2               SQL              Query Language\n",
      "3  Jupyter Notebook                         IDE\n",
      "4        TensorFlow  Machine Learning Framework\n"
     ]
    }
   ],
   "source": [
    "import pandas as pd\n",
    "\n",
    "data = {\n",
    "    \"Tool\": [\"Python\", \"R\", \"SQL\", \"Jupyter Notebook\", \"TensorFlow\"],\n",
    "    \"Category\": [\"Programming Language\", \"Programming Language\", \"Query Language\", \"IDE\", \"Machine Learning Framework\"]\n",
    "}\n",
    "\n",
    "\n",
    "df = pd.DataFrame(data)\n",
    "\n",
    "print(df)\n"
   ]
  },
  {
   "cell_type": "markdown",
   "metadata": {},
   "source": [
    "## Introduction to Arithmetic Expressions\n",
    "\n",
    "Arithmetic expressions are fundamental in mathematics and programming. They involve mathematical operations such as addition, subtraction, multiplication, and division. Below are some examples of arithmetic expressions:\n",
    "\n",
    "1. Addition: `2 + 3`\n",
    "2. Subtraction: `5 - 2`\n",
    "3. Multiplication: `4 * 6`\n",
    "4. Division: `10 / 2`\n",
    "\n",
    "These expressions demonstrate basic mathematical operations and are commonly used in various computational tasks.\n"
   ]
  },
  {
   "cell_type": "code",
   "execution_count": 4,
   "metadata": {},
   "outputs": [
    {
     "name": "stdout",
     "output_type": "stream",
     "text": [
      "Product: 15\n",
      "Sum: 8\n"
     ]
    }
   ],
   "source": [
    "# Define numbers\n",
    "number1 = 5\n",
    "number2 = 3\n",
    "\n",
    "# Multiply numbers\n",
    "product = number1 * number2\n",
    "\n",
    "# Add numbers\n",
    "sum_result = number1 + number2\n",
    "\n",
    "# Print results\n",
    "print(\"Product:\", product)\n",
    "print(\"Sum:\", sum_result)\n"
   ]
  },
  {
   "cell_type": "code",
   "execution_count": 5,
   "metadata": {},
   "outputs": [
    {
     "name": "stdout",
     "output_type": "stream",
     "text": [
      "120 minutes is equal to 2.0 hours.\n"
     ]
    }
   ],
   "source": [
    "# Define minutes\n",
    "minutes = 120\n",
    "\n",
    "# Convert minutes to hours\n",
    "hours = minutes / 60\n",
    "\n",
    "# Print result\n",
    "print(minutes, \"minutes is equal to\", hours, \"hours.\")\n"
   ]
  },
  {
   "cell_type": "markdown",
   "metadata": {},
   "source": [
    "## Introduction to Data Science Tools\n",
    "\n",
    "Data science relies on various tools to collect, analyze, and visualize data. Below are some essential tools used in data science:\n",
    "\n",
    "- Python\n",
    "- R\n",
    "- SQL\n",
    "- Jupyter Notebook\n",
    "- TensorFlow\n"
   ]
  },
  {
   "cell_type": "markdown",
   "metadata": {},
   "source": [
    "**Dnyanesh Nikam**"
   ]
  },
  {
   "cell_type": "code",
   "execution_count": null,
   "metadata": {},
   "outputs": [],
   "source": []
  }
 ],
 "metadata": {
  "kernelspec": {
   "display_name": "Python 3 (ipykernel)",
   "language": "python",
   "name": "python3"
  },
  "language_info": {
   "codemirror_mode": {
    "name": "ipython",
    "version": 3
   },
   "file_extension": ".py",
   "mimetype": "text/x-python",
   "name": "python",
   "nbconvert_exporter": "python",
   "pygments_lexer": "ipython3",
   "version": "3.11.5"
  }
 },
 "nbformat": 4,
 "nbformat_minor": 4
}
